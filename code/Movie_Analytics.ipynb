{
 "cells": [
  {
   "cell_type": "code",
   "execution_count": 1,
   "metadata": {},
   "outputs": [
    {
     "data": {
      "text/html": [
       "<style scoped>\n",
       "  .ansiout {\n",
       "    display: block;\n",
       "    unicode-bidi: embed;\n",
       "    white-space: pre-wrap;\n",
       "    word-wrap: break-word;\n",
       "    word-break: break-all;\n",
       "    font-family: \"Source Code Pro\", \"Menlo\", monospace;;\n",
       "    font-size: 13px;\n",
       "    color: #555;\n",
       "    margin-left: 4px;\n",
       "    line-height: 19px;\n",
       "  }\n",
       "</style>\n",
       "<div class=\"ansiout\"><span class=\"ansired\">Out[</span><span class=\"ansired\">1</span><span class=\"ansired\">]: </span>DataFrame[userId: int, movieId: int, tag: string, timestamp: int]\n",
       "</div>"
      ]
     },
     "metadata": {},
     "output_type": "display_data"
    }
   ],
   "source": [
    "from pyspark.sql import SparkSession\n",
    "from pyspark import SparkContext\n",
    "from pyspark import SparkConf\n",
    "from pyspark.sql import functions as f\n",
    "from pyspark.sql.functions import col\n",
    "\n",
    "spark=SparkSession.builder.appName(\"Dunhumbby Practise\").getOrCreate()\n",
    "#create DataFrame with movie CSV Data\n",
    "rawDFMovie=spark.read.format(\"CSV\").option(\"header\",\"true\").option(\"inferSchema\",\"true\").load(\"/FileStore/tables/movies.csv\")\n",
    "rawDFRatings=spark.read.format(\"CSV\").option(\"header\",\"true\").option(\"inferSchema\",\"true\").load(\"/FileStore/tables/ratings.csv\")\n",
    "rawDFLinks=spark.read.format(\"CSV\").option(\"header\",\"true\").option(\"inferSchema\",\"true\").load(\"/FileStore/tables/links.csv\")\n",
    "rawDFTags=spark.read.format(\"CSV\").option(\"header\",\"true\").option(\"inferSchema\",\"true\").load(\"/FileStore/tables/tags.csv\")\n",
    "\n",
    "## Persist Data\n",
    "rawDFMovie.persist()\n",
    "rawDFRatings.persist()\n",
    "rawDFLinks.persist()\n",
    "rawDFTags.persist()"
   ]
  },
  {
   "cell_type": "code",
   "execution_count": 2,
   "metadata": {},
   "outputs": [
    {
     "data": {
      "text/html": [
       "<style scoped>\n",
       "  .ansiout {\n",
       "    display: block;\n",
       "    unicode-bidi: embed;\n",
       "    white-space: pre-wrap;\n",
       "    word-wrap: break-word;\n",
       "    word-break: break-all;\n",
       "    font-family: \"Source Code Pro\", \"Menlo\", monospace;;\n",
       "    font-size: 13px;\n",
       "    color: #555;\n",
       "    margin-left: 4px;\n",
       "    line-height: 19px;\n",
       "  }\n",
       "</style>\n",
       "<div class=\"ansiout\">[(&apos;movieId&apos;, &apos;int&apos;), (&apos;title&apos;, &apos;string&apos;), (&apos;genres&apos;, &apos;string&apos;)]\n",
       "[(&apos;userId&apos;, &apos;int&apos;), (&apos;movieId&apos;, &apos;int&apos;), (&apos;rating&apos;, &apos;double&apos;), (&apos;timestamp&apos;, &apos;int&apos;)]\n",
       "[(&apos;movieId&apos;, &apos;int&apos;), (&apos;imdbId&apos;, &apos;int&apos;), (&apos;tmdbId&apos;, &apos;int&apos;)]\n",
       "[(&apos;userId&apos;, &apos;int&apos;), (&apos;movieId&apos;, &apos;int&apos;), (&apos;tag&apos;, &apos;string&apos;), (&apos;timestamp&apos;, &apos;int&apos;)]\n",
       "</div>"
      ]
     },
     "metadata": {},
     "output_type": "display_data"
    }
   ],
   "source": [
    "#Print Column Details\n",
    "print(rawDFMovie.dtypes)\n",
    "print(rawDFRatings.dtypes)\n",
    "print(rawDFLinks.dtypes)\n",
    "print(rawDFTags.dtypes)\n"
   ]
  },
  {
   "cell_type": "code",
   "execution_count": 3,
   "metadata": {},
   "outputs": [
    {
     "data": {
      "text/html": [
       "<style scoped>\n",
       "  .ansiout {\n",
       "    display: block;\n",
       "    unicode-bidi: embed;\n",
       "    white-space: pre-wrap;\n",
       "    word-wrap: break-word;\n",
       "    word-break: break-all;\n",
       "    font-family: \"Source Code Pro\", \"Menlo\", monospace;;\n",
       "    font-size: 13px;\n",
       "    color: #555;\n",
       "    margin-left: 4px;\n",
       "    line-height: 19px;\n",
       "  }\n",
       "</style>\n",
       "<div class=\"ansiout\"><span class=\"ansired\">Out[</span><span class=\"ansired\">3</span><span class=\"ansired\">]: </span>27278\n",
       "</div>"
      ]
     },
     "metadata": {},
     "output_type": "display_data"
    }
   ],
   "source": [
    "#number of unique movies\n",
    "rawDFMovie.select(\"movieId\").count()"
   ]
  },
  {
   "cell_type": "code",
   "execution_count": 4,
   "metadata": {},
   "outputs": [
    {
     "data": {
      "text/html": [
       "<style scoped>\n",
       "  .ansiout {\n",
       "    display: block;\n",
       "    unicode-bidi: embed;\n",
       "    white-space: pre-wrap;\n",
       "    word-wrap: break-word;\n",
       "    word-break: break-all;\n",
       "    font-family: \"Source Code Pro\", \"Menlo\", monospace;;\n",
       "    font-size: 13px;\n",
       "    color: #555;\n",
       "    margin-left: 4px;\n",
       "    line-height: 19px;\n",
       "  }\n",
       "</style>\n",
       "<div class=\"ansiout\">0.5\n",
       "</div>"
      ]
     },
     "metadata": {},
     "output_type": "display_data"
    }
   ],
   "source": [
    "#minimum rating given to a movie\n",
    "minRating=rawDFRatings.groupBy().agg(f.min(\"rating\").alias(\"MinRating\")).rdd.first().MinRating\n",
    "print(minRating)\n",
    "\n",
    "##minimum rating given to a movie with movieID\n",
    "movieIDminRate=rawDFRatings.filter(col(\"rating\")==minRating)\n"
   ]
  },
  {
   "cell_type": "code",
   "execution_count": 5,
   "metadata": {},
   "outputs": [
    {
     "data": {
      "text/html": [
       "<style scoped>\n",
       "  .ansiout {\n",
       "    display: block;\n",
       "    unicode-bidi: embed;\n",
       "    white-space: pre-wrap;\n",
       "    word-wrap: break-word;\n",
       "    word-break: break-all;\n",
       "    font-family: \"Source Code Pro\", \"Menlo\", monospace;;\n",
       "    font-size: 13px;\n",
       "    color: #555;\n",
       "    margin-left: 4px;\n",
       "    line-height: 19px;\n",
       "  }\n",
       "</style>\n",
       "<div class=\"ansiout\">+-------+------+--------------------+--------------------+\n",
       "movieID|rating|               title|              genres|\n",
       "+-------+------+--------------------+--------------------+\n",
       "    286|   0.5|Nemesis 2: Nebula...|Action|Sci-Fi|Thr...|\n",
       "    671|   0.5|Mystery Science T...|       Comedy|Sci-Fi|\n",
       "+-------+------+--------------------+--------------------+\n",
       "only showing top 2 rows\n",
       "\n",
       "</div>"
      ]
     },
     "metadata": {},
     "output_type": "display_data"
    }
   ],
   "source": [
    "#movie Details with min rating\n",
    "movieIDminRate.alias('a').join(rawDFMovie.alias('b'), \"movieID\").select(\"movieID\",\"rating\",\"title\",\"genres\").show(2)"
   ]
  },
  {
   "cell_type": "code",
   "execution_count": 6,
   "metadata": {},
   "outputs": [
    {
     "data": {
      "text/html": [
       "<style scoped>\n",
       "  .ansiout {\n",
       "    display: block;\n",
       "    unicode-bidi: embed;\n",
       "    white-space: pre-wrap;\n",
       "    word-wrap: break-word;\n",
       "    word-break: break-all;\n",
       "    font-family: \"Source Code Pro\", \"Menlo\", monospace;;\n",
       "    font-size: 13px;\n",
       "    color: #555;\n",
       "    margin-left: 4px;\n",
       "    line-height: 19px;\n",
       "  }\n",
       "</style>\n",
       "<div class=\"ansiout\">+-------+----------+--------------------+-----------+\n",
       "movieID|avg_rating|               title|     genres|\n",
       "+-------+----------+--------------------+-----------+\n",
       "   7281|       0.5|Scream, Blacula, ...|     Horror|\n",
       "   8716|       0.5|Plainsman, The (1...|War|Western|\n",
       "+-------+----------+--------------------+-----------+\n",
       "only showing top 2 rows\n",
       "\n",
       "<span class=\"ansired\">Out[</span><span class=\"ansired\">33</span><span class=\"ansired\">]: </span>&lt;bound method DataFrame.printSchema of DataFrame[movieId: int, userId: int, rating: double, timestamp: int, title: string, genres: string]&gt;\n",
       "</div>"
      ]
     },
     "metadata": {},
     "output_type": "display_data"
    }
   ],
   "source": [
    "#movies with min average rating\n",
    "avgRatingDF=rawDFRatings.groupBy(rawDFRatings[\"movieID\"]).agg(f.avg(col(\"rating\")).alias(\"avg_rating\"))\n",
    "minAvgRating=avgRatingDF.select(\"avg_rating\").distinct().agg(f.min(col(\"avg_rating\")).alias(\"minAvgRating\")).rdd.first().minAvgRating\n",
    "avgRatingDF.filter(col(\"avg_rating\")==minAvgRating).join(rawDFMovie.alias('b'), \"movieID\").select(\"movieID\",\"avg_rating\",\"title\",\"genres\").show(2)\n",
    "\n"
   ]
  },
  {
   "cell_type": "code",
   "execution_count": 7,
   "metadata": {},
   "outputs": [
    {
     "data": {
      "text/html": [
       "<style scoped>\n",
       "  .ansiout {\n",
       "    display: block;\n",
       "    unicode-bidi: embed;\n",
       "    white-space: pre-wrap;\n",
       "    word-wrap: break-word;\n",
       "    word-break: break-all;\n",
       "    font-family: \"Source Code Pro\", \"Menlo\", monospace;;\n",
       "    font-size: 13px;\n",
       "    color: #555;\n",
       "    margin-left: 4px;\n",
       "    line-height: 19px;\n",
       "  }\n",
       "</style>\n",
       "<div class=\"ansiout\"><span class=\"ansired\">Out[</span><span class=\"ansired\">40</span><span class=\"ansired\">]: </span>DataFrame[movieId: int, rating: double, title: string, genres: string]\n",
       "</div>"
      ]
     },
     "metadata": {},
     "output_type": "display_data"
    }
   ],
   "source": [
    "#create Join DF for further analytics\n",
    "movie_ratingDF=rawDFRatings.join(f.broadcast(rawDFMovie), \"movieID\").select(\"movieId\",\"rating\",\"title\",\"genres\")\n",
    "movie_ratingDF.persist()"
   ]
  },
  {
   "cell_type": "code",
   "execution_count": 8,
   "metadata": {},
   "outputs": [
    {
     "data": {
      "text/html": [
       "<style scoped>\n",
       "  .ansiout {\n",
       "    display: block;\n",
       "    unicode-bidi: embed;\n",
       "    white-space: pre-wrap;\n",
       "    word-wrap: break-word;\n",
       "    word-break: break-all;\n",
       "    font-family: \"Source Code Pro\", \"Menlo\", monospace;;\n",
       "    font-size: 13px;\n",
       "    color: #555;\n",
       "    margin-left: 4px;\n",
       "    line-height: 19px;\n",
       "  }\n",
       "</style>\n",
       "<div class=\"ansiout\">+--------------------+------------------+\n",
       "              genres|        avg_rating|\n",
       "+--------------------+------------------+\n",
       "Comedy|Horror|Thr...|3.2884195193008012|\n",
       "Action|Adventure|...| 4.074866310160428|\n",
       "+--------------------+------------------+\n",
       "only showing top 2 rows\n",
       "\n",
       "</div>"
      ]
     },
     "metadata": {},
     "output_type": "display_data"
    }
   ],
   "source": [
    "#moast popular genre\n",
    "avgRating_genre_DF=movie_ratingDF.groupBy(movie_ratingDF[\"genres\"]).agg(f.avg(col(\"rating\")).alias(\"avg_rating\"))\n",
    "avgRating_genre_DF.show(2)\n",
    "##******************************************************************************************************************************************************##\n",
    "\n",
    "\n",
    "#Best Movie Per Year avgRatingDF=rawDFRatings.groupBy(rawDFRatings[\"movieID\"]).agg(f.avg(col(\"rating\")).alias(\"avg_rating\"))movie with max average rating per year"
   ]
  },
  {
   "cell_type": "code",
   "execution_count": 9,
   "metadata": {},
   "outputs": [
    {
     "data": {
      "text/html": [
       "<style scoped>\n",
       "  .ansiout {\n",
       "    display: block;\n",
       "    unicode-bidi: embed;\n",
       "    white-space: pre-wrap;\n",
       "    word-wrap: break-word;\n",
       "    word-break: break-all;\n",
       "    font-family: \"Source Code Pro\", \"Menlo\", monospace;;\n",
       "    font-size: 13px;\n",
       "    color: #555;\n",
       "    margin-left: 4px;\n",
       "    line-height: 19px;\n",
       "  }\n",
       "</style>\n",
       "<div class=\"ansiout\"></div>"
      ]
     },
     "metadata": {},
     "output_type": "display_data"
    }
   ],
   "source": [
    "#unique tag\n",
    "\n",
    "#Best 2 movie with each tag\n",
    "\n",
    "#Best 2 movie with "
   ]
  },
  {
   "cell_type": "code",
   "execution_count": 10,
   "metadata": {},
   "outputs": [
    {
     "data": {
      "text/html": [
       "<style scoped>\n",
       "  .ansiout {\n",
       "    display: block;\n",
       "    unicode-bidi: embed;\n",
       "    white-space: pre-wrap;\n",
       "    word-wrap: break-word;\n",
       "    word-break: break-all;\n",
       "    font-family: \"Source Code Pro\", \"Menlo\", monospace;;\n",
       "    font-size: 13px;\n",
       "    color: #555;\n",
       "    margin-left: 4px;\n",
       "    line-height: 19px;\n",
       "  }\n",
       "</style>\n",
       "<div class=\"ansiout\"></div>"
      ]
     },
     "metadata": {},
     "output_type": "display_data"
    }
   ],
   "source": [
    "# filtering to get the list of drama movies\n",
    "\n",
    "#total number of drama movies in year 1995\n"
   ]
  },
  {
   "cell_type": "code",
   "execution_count": 11,
   "metadata": {},
   "outputs": [
    {
     "data": {
      "text/html": [
       "<style scoped>\n",
       "  .ansiout {\n",
       "    display: block;\n",
       "    unicode-bidi: embed;\n",
       "    white-space: pre-wrap;\n",
       "    word-wrap: break-word;\n",
       "    word-break: break-all;\n",
       "    font-family: \"Source Code Pro\", \"Menlo\", monospace;;\n",
       "    font-size: 13px;\n",
       "    color: #555;\n",
       "    margin-left: 4px;\n",
       "    line-height: 19px;\n",
       "  }\n",
       "</style>\n",
       "<div class=\"ansiout\"></div>"
      ]
     },
     "metadata": {},
     "output_type": "display_data"
    }
   ],
   "source": [
    "#movie ID and Name with tag Dark"
   ]
  },
  {
   "cell_type": "code",
   "execution_count": 12,
   "metadata": {},
   "outputs": [
    {
     "data": {
      "text/html": [
       "<style scoped>\n",
       "  .ansiout {\n",
       "    display: block;\n",
       "    unicode-bidi: embed;\n",
       "    white-space: pre-wrap;\n",
       "    word-wrap: break-word;\n",
       "    word-break: break-all;\n",
       "    font-family: \"Source Code Pro\", \"Menlo\", monospace;;\n",
       "    font-size: 13px;\n",
       "    color: #555;\n",
       "    margin-left: 4px;\n",
       "    line-height: 19px;\n",
       "  }\n",
       "</style>\n",
       "<div class=\"ansiout\"></div>"
      ]
     },
     "metadata": {},
     "output_type": "display_data"
    }
   ],
   "source": [
    "#displays high rated movies (rating>4)\n",
    "\n",
    "#displays high rated movies (rating<4)"
   ]
  },
  {
   "cell_type": "code",
   "execution_count": 13,
   "metadata": {},
   "outputs": [
    {
     "data": {
      "text/html": [
       "<style scoped>\n",
       "  .ansiout {\n",
       "    display: block;\n",
       "    unicode-bidi: embed;\n",
       "    white-space: pre-wrap;\n",
       "    word-wrap: break-word;\n",
       "    word-break: break-all;\n",
       "    font-family: \"Source Code Pro\", \"Menlo\", monospace;;\n",
       "    font-size: 13px;\n",
       "    color: #555;\n",
       "    margin-left: 4px;\n",
       "    line-height: 19px;\n",
       "  }\n",
       "</style>\n",
       "<div class=\"ansiout\"></div>"
      ]
     },
     "metadata": {},
     "output_type": "display_data"
    }
   ],
   "source": [
    "#top 25 most rated movies\n"
   ]
  },
  {
   "cell_type": "code",
   "execution_count": 14,
   "metadata": {},
   "outputs": [
    {
     "data": {
      "text/html": [
       "<style scoped>\n",
       "  .ansiout {\n",
       "    display: block;\n",
       "    unicode-bidi: embed;\n",
       "    white-space: pre-wrap;\n",
       "    word-wrap: break-word;\n",
       "    word-break: break-all;\n",
       "    font-family: \"Source Code Pro\", \"Menlo\", monospace;;\n",
       "    font-size: 13px;\n",
       "    color: #555;\n",
       "    margin-left: 4px;\n",
       "    line-height: 19px;\n",
       "  }\n",
       "</style>\n",
       "<div class=\"ansiout\"></div>"
      ]
     },
     "metadata": {},
     "output_type": "display_data"
    }
   ],
   "source": [
    "#most popular genere"
   ]
  }
 ],
 "metadata": {
  "kernelspec": {
   "display_name": "Python 2",
   "language": "python",
   "name": "python2"
  },
  "language_info": {
   "codemirror_mode": {
    "name": "ipython",
    "version": 2
   },
   "file_extension": ".py",
   "mimetype": "text/x-python",
   "name": "python",
   "nbconvert_exporter": "python",
   "pygments_lexer": "ipython2",
   "version": "2.7.15"
  },
  "name": "Movie_Analytics",
  "notebookId": 1813792777989628
 },
 "nbformat": 4,
 "nbformat_minor": 1
}
